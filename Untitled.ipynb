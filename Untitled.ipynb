{
 "cells": [
  {
   "cell_type": "code",
   "execution_count": 1,
   "metadata": {},
   "outputs": [],
   "source": [
    "import os\n",
    "os.environ[\"SPARK_HOME\"]='/usr/local/spark'\n",
    "import findspark\n",
    "findspark.init()\n",
    "import pyspark\n",
    "from pyspark.sql import Row\n",
    "from pyspark.sql.types import *\n",
    "from pyspark.sql import SparkSession\n",
    "from pyspark.sql.functions import *"
   ]
  },
  {
   "cell_type": "code",
   "execution_count": 2,
   "metadata": {},
   "outputs": [],
   "source": [
    "spark = (SparkSession\n",
    "        .builder\n",
    "        .appName(\"Car\")\n",
    "         .enableHiveSupport()\n",
    "        .getOrCreate())"
   ]
  },
  {
   "cell_type": "code",
   "execution_count": 3,
   "metadata": {},
   "outputs": [],
   "source": [
    "carDF = spark.read.option(\"samplingRatio\", 0.001).option(\"header\", \"true\").csv(\"Car_sales_details_p3.csv\")"
   ]
  },
  {
   "cell_type": "code",
   "execution_count": 4,
   "metadata": {},
   "outputs": [],
   "source": [
    "salesDF = spark.read.option(\"samplingRatio\", 0.001).option(\"header\", \"true\").csv(\"sales_Status_p3.csv\")"
   ]
  },
  {
   "cell_type": "code",
   "execution_count": 5,
   "metadata": {},
   "outputs": [],
   "source": [
    "stateDF = spark.read.option(\"samplingRatio\", 0.001).option(\"header\", \"true\").csv(\"State_region_mapping_p3.csv\")"
   ]
  },
  {
   "cell_type": "code",
   "execution_count": 6,
   "metadata": {},
   "outputs": [
    {
     "name": "stdout",
     "output_type": "stream",
     "text": [
      "root\n",
      " |-- Sales_ID: string (nullable = true)\n",
      " |-- name: string (nullable = true)\n",
      " |-- year: string (nullable = true)\n",
      " |-- selling_price: string (nullable = true)\n",
      " |-- km_driven: string (nullable = true)\n",
      " |-- State or Province: string (nullable = true)\n",
      " |-- City: string (nullable = true)\n",
      " |-- fuel: string (nullable = true)\n",
      " |-- seller_type: string (nullable = true)\n",
      " |-- transmission: string (nullable = true)\n",
      " |-- owner: string (nullable = true)\n",
      " |-- mileage: string (nullable = true)\n",
      " |-- engine: string (nullable = true)\n",
      " |-- max_power: string (nullable = true)\n",
      " |-- seats: string (nullable = true)\n",
      "\n"
     ]
    }
   ],
   "source": [
    "carDF.printSchema()"
   ]
  },
  {
   "cell_type": "code",
   "execution_count": 7,
   "metadata": {},
   "outputs": [
    {
     "name": "stdout",
     "output_type": "stream",
     "text": [
      "root\n",
      " |-- Sales_ID: string (nullable = true)\n",
      " |-- sold: string (nullable = true)\n",
      "\n"
     ]
    }
   ],
   "source": [
    "salesDF.printSchema()"
   ]
  },
  {
   "cell_type": "code",
   "execution_count": 8,
   "metadata": {},
   "outputs": [
    {
     "name": "stdout",
     "output_type": "stream",
     "text": [
      "root\n",
      " |-- Region: string (nullable = true)\n",
      " |-- State or Province: string (nullable = true)\n",
      "\n"
     ]
    }
   ],
   "source": [
    "stateDF.printSchema()"
   ]
  },
  {
   "cell_type": "code",
   "execution_count": 9,
   "metadata": {},
   "outputs": [],
   "source": [
    "salesDF = salesDF.withColumnRenamed(\"Sales_ID\", \"Sale_ID\")"
   ]
  },
  {
   "cell_type": "code",
   "execution_count": 10,
   "metadata": {},
   "outputs": [
    {
     "name": "stdout",
     "output_type": "stream",
     "text": [
      "+--------+--------------------+----+-------------+---------+--------------------+-------------+------+-----------+------------+------------+----------+-------+----------+-----+-------+----+\n",
      "|Sales_ID|                name|year|selling_price|km_driven|   State or Province|         City|  fuel|seller_type|transmission|       owner|   mileage| engine| max_power|seats|Sale_ID|sold|\n",
      "+--------+--------------------+----+-------------+---------+--------------------+-------------+------+-----------+------------+------------+----------+-------+----------+-----+-------+----+\n",
      "|       1|Maruti Swift Dzir...|2014|       450000|   145500|District of Columbia|   Washington|Diesel| Individual|      Manual| First Owner| 23.4 kmpl|1248 CC|    74 bhp|    5|      1|   Y|\n",
      "|       2|Skoda Rapid 1.5 T...|2014|       370000|   120000|            New York|New York City|Diesel| Individual|      Manual|Second Owner|21.14 kmpl|1498 CC|103.52 bhp|    5|      2|   Y|\n",
      "|       3|Honda City 2017-2...|2006|       158000|   140000|            Illinois|      Chicago|Petrol| Individual|      Manual| Third Owner| 17.7 kmpl|1497 CC|    78 bhp|    5|      3|   Y|\n",
      "|       4|Hyundai i20 Sport...|2010|       225000|   127000|            Illinois|      Chicago|Diesel| Individual|      Manual| First Owner| 23.0 kmpl|1396 CC|    90 bhp|    5|      4|   Y|\n",
      "|       5|Maruti Swift VXI ...|2007|       130000|   120000|            New York|New York City|Petrol| Individual|      Manual| First Owner| 16.1 kmpl|1298 CC|  88.2 bhp|    5|      5|   Y|\n",
      "|       6|Hyundai Xcent 1.2...|2017|       440000|    45000|            New York|New York City|Petrol| Individual|      Manual| First Owner|20.14 kmpl|1197 CC| 81.86 bhp|    5|      6|   Y|\n",
      "|       7|Maruti Wagon R LX...|2007|        96000|   175000|          California|  Los Angeles|   LPG| Individual|      Manual| First Owner|17.3 km/kg|1061 CC|  57.5 bhp|    5|      7|   Y|\n",
      "|       8|  Maruti 800 DX BSII|2001|        45000|     5000|          California|  Los Angeles|Petrol| Individual|      Manual|Second Owner| 16.1 kmpl| 796 CC|    37 bhp|    4|      8|   Y|\n",
      "|       9|    Toyota Etios VXD|2011|       350000|    90000|          California|  Los Angeles|Diesel| Individual|      Manual| First Owner|23.59 kmpl|1364 CC|  67.1 bhp|    5|      9|   Y|\n",
      "|      10|Ford Figo Diesel ...|2013|       200000|   169000|               Texas|      Houston|Diesel| Individual|      Manual| First Owner| 20.0 kmpl|1399 CC|  68.1 bhp|    5|     10|   Y|\n",
      "|      11|Renault Duster 11...|2014|       500000|    68000|            New York|New York City|Diesel| Individual|      Manual|Second Owner|19.01 kmpl|1461 CC|108.45 bhp|    5|     11|   Y|\n",
      "|      12|       Maruti Zen LX|2005|        92000|   100000|               Texas|      Houston|Petrol| Individual|      Manual|Second Owner| 17.3 kmpl| 993 CC|    60 bhp|    5|     12|   Y|\n",
      "|      13|Maruti Swift Dzir...|2009|       280000|   140000|               Texas|      Houston|Diesel| Individual|      Manual|Second Owner| 19.3 kmpl|1248 CC|  73.9 bhp|    5|     13|   Y|\n",
      "|      15|Maruti Wagon R LX...|2009|       180000|    90000|       Massachusetts|       Boston|Petrol| Individual|      Manual|Second Owner| 18.9 kmpl|1061 CC|    67 bhp|    5|     15|   Y|\n",
      "|      16|Mahindra KUV 100 ...|2016|       400000|    40000|       Massachusetts|       Boston|Petrol| Individual|      Manual| First Owner|18.15 kmpl|1198 CC|    82 bhp|    5|     16|   Y|\n",
      "|      17|Maruti Ertiga SHV...|2016|       778000|    70000|               Texas|       Dallas|Diesel| Individual|      Manual|Second Owner|24.52 kmpl|1248 CC|  88.5 bhp|    7|     17|   Y|\n",
      "|      18|Hyundai i20 1.4 C...|2012|       500000|    53000|               Texas|       Dallas|Diesel| Individual|      Manual|Second Owner| 23.0 kmpl|1396 CC|    90 bhp|    5|     18|   Y|\n",
      "|      19|      Maruti Alto LX|2002|       150000|    80000|               Texas|       Dallas|Petrol| Individual|      Manual|Second Owner| 19.7 kmpl| 796 CC|  46.3 bhp|    5|     19|   Y|\n",
      "|      20|Hyundai i20 2015-...|2016|       680000|   100000|            New York|New York City|Diesel| Individual|      Manual| First Owner|22.54 kmpl|1396 CC| 88.73 bhp|    5|     20|   Y|\n",
      "|      21|Mahindra Verito 1...|2011|       174000|   100000|            New York|New York City|Diesel| Individual|      Manual|Second Owner| 21.0 kmpl|1461 CC|  64.1 bhp|    5|     21|   Y|\n",
      "+--------+--------------------+----+-------------+---------+--------------------+-------------+------+-----------+------------+------------+----------+-------+----------+-----+-------+----+\n",
      "only showing top 20 rows\n",
      "\n"
     ]
    }
   ],
   "source": [
    "inner_join = carDF.join(salesDF, carDF.Sales_ID == salesDF.Sale_ID)\n",
    "inner_join.show()"
   ]
  },
  {
   "cell_type": "code",
   "execution_count": 11,
   "metadata": {},
   "outputs": [],
   "source": [
    "inner_join=inner_join.drop('Sale_ID')"
   ]
  },
  {
   "cell_type": "code",
   "execution_count": 12,
   "metadata": {},
   "outputs": [
    {
     "name": "stdout",
     "output_type": "stream",
     "text": [
      "+--------+--------------------+----+-------------+---------+--------------------+-------------+------+-----------+------------+------------+----------+-------+----------+-----+----+\n",
      "|Sales_ID|                name|year|selling_price|km_driven|   State or Province|         City|  fuel|seller_type|transmission|       owner|   mileage| engine| max_power|seats|sold|\n",
      "+--------+--------------------+----+-------------+---------+--------------------+-------------+------+-----------+------------+------------+----------+-------+----------+-----+----+\n",
      "|       1|Maruti Swift Dzir...|2014|       450000|   145500|District of Columbia|   Washington|Diesel| Individual|      Manual| First Owner| 23.4 kmpl|1248 CC|    74 bhp|    5|   Y|\n",
      "|       2|Skoda Rapid 1.5 T...|2014|       370000|   120000|            New York|New York City|Diesel| Individual|      Manual|Second Owner|21.14 kmpl|1498 CC|103.52 bhp|    5|   Y|\n",
      "+--------+--------------------+----+-------------+---------+--------------------+-------------+------+-----------+------------+------------+----------+-------+----------+-----+----+\n",
      "only showing top 2 rows\n",
      "\n"
     ]
    }
   ],
   "source": [
    "inner_join.show(2)"
   ]
  },
  {
   "cell_type": "code",
   "execution_count": 13,
   "metadata": {},
   "outputs": [],
   "source": [
    "inner_join = inner_join.withColumnRenamed(\"State or Province\", \"State_or_province\")"
   ]
  },
  {
   "cell_type": "code",
   "execution_count": 14,
   "metadata": {},
   "outputs": [
    {
     "name": "stdout",
     "output_type": "stream",
     "text": [
      "+--------+--------------------+----+-------------+---------+--------------------+-------------+------+-----------+------------+------------+----------+-------+----------+-----+----+-------+--------------------+\n",
      "|Sales_ID|                name|year|selling_price|km_driven|   State_or_province|         City|  fuel|seller_type|transmission|       owner|   mileage| engine| max_power|seats|sold| Region|   State or Province|\n",
      "+--------+--------------------+----+-------------+---------+--------------------+-------------+------+-----------+------------+------------+----------+-------+----------+-----+----+-------+--------------------+\n",
      "|       1|Maruti Swift Dzir...|2014|       450000|   145500|District of Columbia|   Washington|Diesel| Individual|      Manual| First Owner| 23.4 kmpl|1248 CC|    74 bhp|    5|   Y|   East|District of Columbia|\n",
      "|       2|Skoda Rapid 1.5 T...|2014|       370000|   120000|            New York|New York City|Diesel| Individual|      Manual|Second Owner|21.14 kmpl|1498 CC|103.52 bhp|    5|   Y|   East|            New York|\n",
      "|       3|Honda City 2017-2...|2006|       158000|   140000|            Illinois|      Chicago|Petrol| Individual|      Manual| Third Owner| 17.7 kmpl|1497 CC|    78 bhp|    5|   Y|Central|            Illinois|\n",
      "|       4|Hyundai i20 Sport...|2010|       225000|   127000|            Illinois|      Chicago|Diesel| Individual|      Manual| First Owner| 23.0 kmpl|1396 CC|    90 bhp|    5|   Y|Central|            Illinois|\n",
      "|       5|Maruti Swift VXI ...|2007|       130000|   120000|            New York|New York City|Petrol| Individual|      Manual| First Owner| 16.1 kmpl|1298 CC|  88.2 bhp|    5|   Y|   East|            New York|\n",
      "|       6|Hyundai Xcent 1.2...|2017|       440000|    45000|            New York|New York City|Petrol| Individual|      Manual| First Owner|20.14 kmpl|1197 CC| 81.86 bhp|    5|   Y|   East|            New York|\n",
      "|       7|Maruti Wagon R LX...|2007|        96000|   175000|          California|  Los Angeles|   LPG| Individual|      Manual| First Owner|17.3 km/kg|1061 CC|  57.5 bhp|    5|   Y|   West|          California|\n",
      "|       8|  Maruti 800 DX BSII|2001|        45000|     5000|          California|  Los Angeles|Petrol| Individual|      Manual|Second Owner| 16.1 kmpl| 796 CC|    37 bhp|    4|   Y|   West|          California|\n",
      "|       9|    Toyota Etios VXD|2011|       350000|    90000|          California|  Los Angeles|Diesel| Individual|      Manual| First Owner|23.59 kmpl|1364 CC|  67.1 bhp|    5|   Y|   West|          California|\n",
      "|      10|Ford Figo Diesel ...|2013|       200000|   169000|               Texas|      Houston|Diesel| Individual|      Manual| First Owner| 20.0 kmpl|1399 CC|  68.1 bhp|    5|   Y|Central|               Texas|\n",
      "|      11|Renault Duster 11...|2014|       500000|    68000|            New York|New York City|Diesel| Individual|      Manual|Second Owner|19.01 kmpl|1461 CC|108.45 bhp|    5|   Y|   East|            New York|\n",
      "|      12|       Maruti Zen LX|2005|        92000|   100000|               Texas|      Houston|Petrol| Individual|      Manual|Second Owner| 17.3 kmpl| 993 CC|    60 bhp|    5|   Y|Central|               Texas|\n",
      "|      13|Maruti Swift Dzir...|2009|       280000|   140000|               Texas|      Houston|Diesel| Individual|      Manual|Second Owner| 19.3 kmpl|1248 CC|  73.9 bhp|    5|   Y|Central|               Texas|\n",
      "|      15|Maruti Wagon R LX...|2009|       180000|    90000|       Massachusetts|       Boston|Petrol| Individual|      Manual|Second Owner| 18.9 kmpl|1061 CC|    67 bhp|    5|   Y|   East|       Massachusetts|\n",
      "|      16|Mahindra KUV 100 ...|2016|       400000|    40000|       Massachusetts|       Boston|Petrol| Individual|      Manual| First Owner|18.15 kmpl|1198 CC|    82 bhp|    5|   Y|   East|       Massachusetts|\n",
      "|      17|Maruti Ertiga SHV...|2016|       778000|    70000|               Texas|       Dallas|Diesel| Individual|      Manual|Second Owner|24.52 kmpl|1248 CC|  88.5 bhp|    7|   Y|Central|               Texas|\n",
      "|      18|Hyundai i20 1.4 C...|2012|       500000|    53000|               Texas|       Dallas|Diesel| Individual|      Manual|Second Owner| 23.0 kmpl|1396 CC|    90 bhp|    5|   Y|Central|               Texas|\n",
      "|      19|      Maruti Alto LX|2002|       150000|    80000|               Texas|       Dallas|Petrol| Individual|      Manual|Second Owner| 19.7 kmpl| 796 CC|  46.3 bhp|    5|   Y|Central|               Texas|\n",
      "|      20|Hyundai i20 2015-...|2016|       680000|   100000|            New York|New York City|Diesel| Individual|      Manual| First Owner|22.54 kmpl|1396 CC| 88.73 bhp|    5|   Y|   East|            New York|\n",
      "|      21|Mahindra Verito 1...|2011|       174000|   100000|            New York|New York City|Diesel| Individual|      Manual|Second Owner| 21.0 kmpl|1461 CC|  64.1 bhp|    5|   Y|   East|            New York|\n",
      "+--------+--------------------+----+-------------+---------+--------------------+-------------+------+-----------+------------+------------+----------+-------+----------+-----+----+-------+--------------------+\n",
      "only showing top 20 rows\n",
      "\n"
     ]
    }
   ],
   "source": [
    "FinalDF = inner_join.join(stateDF,inner_join.State_or_province == stateDF['State or Province'])\n",
    "FinalDF.show()"
   ]
  },
  {
   "cell_type": "code",
   "execution_count": 15,
   "metadata": {},
   "outputs": [],
   "source": [
    "FinalDF=FinalDF.drop('State or Province')"
   ]
  },
  {
   "cell_type": "code",
   "execution_count": 16,
   "metadata": {},
   "outputs": [
    {
     "name": "stdout",
     "output_type": "stream",
     "text": [
      "root\n",
      " |-- Sales_ID: string (nullable = true)\n",
      " |-- name: string (nullable = true)\n",
      " |-- year: string (nullable = true)\n",
      " |-- selling_price: string (nullable = true)\n",
      " |-- km_driven: string (nullable = true)\n",
      " |-- State_or_province: string (nullable = true)\n",
      " |-- City: string (nullable = true)\n",
      " |-- fuel: string (nullable = true)\n",
      " |-- seller_type: string (nullable = true)\n",
      " |-- transmission: string (nullable = true)\n",
      " |-- owner: string (nullable = true)\n",
      " |-- mileage: string (nullable = true)\n",
      " |-- engine: string (nullable = true)\n",
      " |-- max_power: string (nullable = true)\n",
      " |-- seats: string (nullable = true)\n",
      " |-- sold: string (nullable = true)\n",
      " |-- Region: string (nullable = true)\n",
      "\n"
     ]
    }
   ],
   "source": [
    "FinalDF.printSchema()"
   ]
  },
  {
   "cell_type": "code",
   "execution_count": 17,
   "metadata": {},
   "outputs": [
    {
     "name": "stdout",
     "output_type": "stream",
     "text": [
      "+--------+----+----+-------------+---------+-----------------+----+----+-----------+------------+-----+-------+------+---------+-----+----+------+\n",
      "|Sales_ID|name|year|selling_price|km_driven|State_or_province|City|fuel|seller_type|transmission|owner|mileage|engine|max_power|seats|sold|Region|\n",
      "+--------+----+----+-------------+---------+-----------------+----+----+-----------+------------+-----+-------+------+---------+-----+----+------+\n",
      "|       0|   0|   0|            0|        0|                0|   0|   0|          0|           0|    0|      0|     0|        0|    0|   0|     0|\n",
      "+--------+----+----+-------------+---------+-----------------+----+----+-----------+------------+-----+-------+------+---------+-----+----+------+\n",
      "\n"
     ]
    }
   ],
   "source": [
    "from pyspark.sql.functions import isnan, when, count, col\n",
    "FinalDF.select([count(when(isnan(c), c)).alias(c) for c in FinalDF.columns]).show()"
   ]
  },
  {
   "cell_type": "markdown",
   "metadata": {},
   "source": [
    "As there are no missing values it is displayed as 0"
   ]
  },
  {
   "cell_type": "markdown",
   "metadata": {},
   "source": [
    "Preprocessing"
   ]
  },
  {
   "cell_type": "code",
   "execution_count": 18,
   "metadata": {},
   "outputs": [],
   "source": [
    "carData= FinalDF.withColumn('engine', regexp_replace('engine',' CC',''))\n",
    "carData= carData.withColumn('mileage', regexp_replace('mileage',' kmpl',''))\n",
    "carData = carData.withColumn('mileage', regexp_replace('mileage',' km/kg',''))\n",
    "carData = carData.withColumn('max_power', regexp_replace('max_power',' bhp',''))"
   ]
  },
  {
   "cell_type": "code",
   "execution_count": 19,
   "metadata": {},
   "outputs": [
    {
     "name": "stdout",
     "output_type": "stream",
     "text": [
      "+--------+--------------------+----+-------------+---------+--------------------+-------------+------+-----------+------------+------------+-------+------+---------+-----+----+-------+\n",
      "|Sales_ID|                name|year|selling_price|km_driven|   State_or_province|         City|  fuel|seller_type|transmission|       owner|mileage|engine|max_power|seats|sold| Region|\n",
      "+--------+--------------------+----+-------------+---------+--------------------+-------------+------+-----------+------------+------------+-------+------+---------+-----+----+-------+\n",
      "|       1|Maruti Swift Dzir...|2014|       450000|   145500|District of Columbia|   Washington|Diesel| Individual|      Manual| First Owner|   23.4|  1248|       74|    5|   Y|   East|\n",
      "|       2|Skoda Rapid 1.5 T...|2014|       370000|   120000|            New York|New York City|Diesel| Individual|      Manual|Second Owner|  21.14|  1498|   103.52|    5|   Y|   East|\n",
      "|       3|Honda City 2017-2...|2006|       158000|   140000|            Illinois|      Chicago|Petrol| Individual|      Manual| Third Owner|   17.7|  1497|       78|    5|   Y|Central|\n",
      "|       4|Hyundai i20 Sport...|2010|       225000|   127000|            Illinois|      Chicago|Diesel| Individual|      Manual| First Owner|   23.0|  1396|       90|    5|   Y|Central|\n",
      "|       5|Maruti Swift VXI ...|2007|       130000|   120000|            New York|New York City|Petrol| Individual|      Manual| First Owner|   16.1|  1298|     88.2|    5|   Y|   East|\n",
      "+--------+--------------------+----+-------------+---------+--------------------+-------------+------+-----------+------------+------------+-------+------+---------+-----+----+-------+\n",
      "only showing top 5 rows\n",
      "\n"
     ]
    }
   ],
   "source": [
    "carData.show(5)"
   ]
  },
  {
   "cell_type": "code",
   "execution_count": 20,
   "metadata": {},
   "outputs": [],
   "source": [
    "from pyspark.ml.feature import StringIndexer\n",
    "strs=[\"name\",\"State_or_province\",\"City\",\"fuel\",\"seller_type\",\"transmission\",\"owner\",\"seats\",\"sold\",\"Region\"]\n"
   ]
  },
  {
   "cell_type": "code",
   "execution_count": 21,
   "metadata": {},
   "outputs": [],
   "source": [
    "for i in strs:\n",
    "        indexer = StringIndexer(inputCol=i, outputCol=i+\"_index\")\n",
    "        carData = indexer.fit(carData).transform(carData)"
   ]
  },
  {
   "cell_type": "code",
   "execution_count": 22,
   "metadata": {},
   "outputs": [
    {
     "name": "stdout",
     "output_type": "stream",
     "text": [
      "+--------+--------------------+----+-------------+---------+--------------------+-------------+------+-----------+------------+------------+-------+------+---------+-----+----+-------+----------+-----------------------+----------+----------+-----------------+------------------+-----------+-----------+----------+------------+\n",
      "|Sales_ID|                name|year|selling_price|km_driven|   State_or_province|         City|  fuel|seller_type|transmission|       owner|mileage|engine|max_power|seats|sold| Region|name_index|State_or_province_index|City_index|fuel_index|seller_type_index|transmission_index|owner_index|seats_index|sold_index|Region_index|\n",
      "+--------+--------------------+----+-------------+---------+--------------------+-------------+------+-----------+------------+------------+-------+------+---------+-----+----+-------+----------+-----------------------+----------+----------+-----------------+------------------+-----------+-----------+----------+------------+\n",
      "|       1|Maruti Swift Dzir...|2014|       450000|   145500|District of Columbia|   Washington|Diesel| Individual|      Manual| First Owner|   23.4|  1248|       74|    5|   Y|   East|       0.0|                   33.0|       5.0|       0.0|              0.0|               0.0|        0.0|        0.0|       1.0|         2.0|\n",
      "|       2|Skoda Rapid 1.5 T...|2014|       370000|   120000|            New York|New York City|Diesel| Individual|      Manual|Second Owner|  21.14|  1498|   103.52|    5|   Y|   East|     770.0|                    2.0|       0.0|       0.0|              0.0|               0.0|        1.0|        0.0|       1.0|         2.0|\n",
      "|       3|Honda City 2017-2...|2006|       158000|   140000|            Illinois|      Chicago|Petrol| Individual|      Manual| Third Owner|   17.7|  1497|       78|    5|   Y|Central|     238.0|                    3.0|       3.0|       1.0|              0.0|               0.0|        2.0|        0.0|       1.0|         0.0|\n",
      "|       4|Hyundai i20 Sport...|2010|       225000|   127000|            Illinois|      Chicago|Diesel| Individual|      Manual| First Owner|   23.0|  1396|       90|    5|   Y|Central|    1536.0|                    3.0|       3.0|       0.0|              0.0|               0.0|        0.0|        0.0|       1.0|         0.0|\n",
      "|       5|Maruti Swift VXI ...|2007|       130000|   120000|            New York|New York City|Petrol| Individual|      Manual| First Owner|   16.1|  1298|     88.2|    5|   Y|   East|    1056.0|                    2.0|       0.0|       1.0|              0.0|               0.0|        0.0|        0.0|       1.0|         2.0|\n",
      "|       6|Hyundai Xcent 1.2...|2017|       440000|    45000|            New York|New York City|Petrol| Individual|      Manual| First Owner|  20.14|  1197|    81.86|    5|   Y|   East|     826.0|                    2.0|       0.0|       1.0|              0.0|               0.0|        0.0|        0.0|       1.0|         2.0|\n",
      "|       7|Maruti Wagon R LX...|2007|        96000|   175000|          California|  Los Angeles|   LPG| Individual|      Manual| First Owner|   17.3|  1061|     57.5|    5|   Y|   West|     294.0|                    0.0|       1.0|       3.0|              0.0|               0.0|        0.0|        0.0|       1.0|         1.0|\n",
      "|       8|  Maruti 800 DX BSII|2001|        45000|     5000|          California|  Los Angeles|Petrol| Individual|      Manual|Second Owner|   16.1|   796|       37|    4|   Y|   West|    1904.0|                    0.0|       1.0|       1.0|              0.0|               0.0|        1.0|        3.0|       1.0|         1.0|\n",
      "|       9|    Toyota Etios VXD|2011|       350000|    90000|          California|  Los Angeles|Diesel| Individual|      Manual| First Owner|  23.59|  1364|     67.1|    5|   Y|   West|     808.0|                    0.0|       1.0|       0.0|              0.0|               0.0|        0.0|        0.0|       1.0|         1.0|\n",
      "|      10|Ford Figo Diesel ...|2013|       200000|   169000|               Texas|      Houston|Diesel| Individual|      Manual| First Owner|   20.0|  1399|     68.1|    5|   Y|Central|     163.0|                    1.0|      11.0|       0.0|              0.0|               0.0|        0.0|        0.0|       1.0|         0.0|\n",
      "|      11|Renault Duster 11...|2014|       500000|    68000|            New York|New York City|Diesel| Individual|      Manual|Second Owner|  19.01|  1461|   108.45|    5|   Y|   East|     121.0|                    2.0|       0.0|       0.0|              0.0|               0.0|        1.0|        0.0|       1.0|         2.0|\n",
      "|      12|       Maruti Zen LX|2005|        92000|   100000|               Texas|      Houston|Petrol| Individual|      Manual|Second Owner|   17.3|   993|       60|    5|   Y|Central|     390.0|                    1.0|      11.0|       1.0|              0.0|               0.0|        1.0|        0.0|       1.0|         0.0|\n",
      "|      13|Maruti Swift Dzir...|2009|       280000|   140000|               Texas|      Houston|Diesel| Individual|      Manual|Second Owner|   19.3|  1248|     73.9|    5|   Y|Central|      23.0|                    1.0|      11.0|       0.0|              0.0|               0.0|        1.0|        0.0|       1.0|         0.0|\n",
      "|      15|Maruti Wagon R LX...|2009|       180000|    90000|       Massachusetts|       Boston|Petrol| Individual|      Manual|Second Owner|   18.9|  1061|       67|    5|   Y|   East|      41.0|                   11.0|       4.0|       1.0|              0.0|               0.0|        1.0|        0.0|       1.0|         2.0|\n",
      "|      16|Mahindra KUV 100 ...|2016|       400000|    40000|       Massachusetts|       Boston|Petrol| Individual|      Manual| First Owner|  18.15|  1198|       82|    5|   Y|   East|    1105.0|                   11.0|       4.0|       1.0|              0.0|               0.0|        0.0|        0.0|       1.0|         2.0|\n",
      "|      17|Maruti Ertiga SHV...|2016|       778000|    70000|               Texas|       Dallas|Diesel| Individual|      Manual|Second Owner|  24.52|  1248|     88.5|    7|   Y|Central|      76.0|                    1.0|      12.0|       0.0|              0.0|               0.0|        1.0|        1.0|       1.0|         0.0|\n",
      "|      18|Hyundai i20 1.4 C...|2012|       500000|    53000|               Texas|       Dallas|Diesel| Individual|      Manual|Second Owner|   23.0|  1396|       90|    5|   Y|Central|     109.0|                    1.0|      12.0|       0.0|              0.0|               0.0|        1.0|        0.0|       1.0|         0.0|\n",
      "|      19|      Maruti Alto LX|2002|       150000|    80000|               Texas|       Dallas|Petrol| Individual|      Manual|Second Owner|   19.7|   796|     46.3|    5|   Y|Central|      11.0|                    1.0|      12.0|       1.0|              0.0|               0.0|        1.0|        0.0|       1.0|         0.0|\n",
      "|      20|Hyundai i20 2015-...|2016|       680000|   100000|            New York|New York City|Diesel| Individual|      Manual| First Owner|  22.54|  1396|    88.73|    5|   Y|   East|     253.0|                    2.0|       0.0|       0.0|              0.0|               0.0|        0.0|        0.0|       1.0|         2.0|\n",
      "|      21|Mahindra Verito 1...|2011|       174000|   100000|            New York|New York City|Diesel| Individual|      Manual|Second Owner|   21.0|  1461|     64.1|    5|   Y|   East|     365.0|                    2.0|       0.0|       0.0|              0.0|               0.0|        1.0|        0.0|       1.0|         2.0|\n",
      "+--------+--------------------+----+-------------+---------+--------------------+-------------+------+-----------+------------+------------+-------+------+---------+-----+----+-------+----------+-----------------------+----------+----------+-----------------+------------------+-----------+-----------+----------+------------+\n",
      "only showing top 20 rows\n",
      "\n"
     ]
    }
   ],
   "source": [
    "carData.show()"
   ]
  },
  {
   "cell_type": "code",
   "execution_count": 23,
   "metadata": {},
   "outputs": [
    {
     "name": "stdout",
     "output_type": "stream",
     "text": [
      "root\n",
      " |-- year: string (nullable = true)\n",
      " |-- selling_price: string (nullable = true)\n",
      " |-- km_driven: string (nullable = true)\n",
      " |-- mileage: string (nullable = true)\n",
      " |-- engine: string (nullable = true)\n",
      " |-- max_power: string (nullable = true)\n",
      " |-- name_index: double (nullable = true)\n",
      " |-- State_or_province_index: double (nullable = true)\n",
      " |-- City_index: double (nullable = true)\n",
      " |-- fuel_index: double (nullable = true)\n",
      " |-- seller_type_index: double (nullable = true)\n",
      " |-- transmission_index: double (nullable = true)\n",
      " |-- owner_index: double (nullable = true)\n",
      " |-- seats_index: double (nullable = true)\n",
      " |-- sold_index: double (nullable = true)\n",
      " |-- Region_index: double (nullable = true)\n",
      "\n"
     ]
    }
   ],
   "source": [
    "carData=carData.drop('Sales_ID','name','State_or_province','City','fuel','seller_type','transmission','owner','seats','sold','Region')\n",
    "carData.printSchema()"
   ]
  },
  {
   "cell_type": "code",
   "execution_count": 24,
   "metadata": {},
   "outputs": [],
   "source": [
    "from pyspark.sql.functions import col"
   ]
  },
  {
   "cell_type": "code",
   "execution_count": 25,
   "metadata": {},
   "outputs": [],
   "source": [
    "carData = (carData\n",
    "  .withColumn(\"year\",col(\"year\").cast(IntegerType()))\n",
    "  .withColumn(\"mileage\", col(\"mileage\").cast(FloatType()))\n",
    "  .withColumn(\"max_power\", col(\"max_power\").cast(FloatType()))\n",
    "  .withColumn(\"engine\", col(\"engine\").cast(IntegerType())))"
   ]
  },
  {
   "cell_type": "code",
   "execution_count": 26,
   "metadata": {},
   "outputs": [],
   "source": [
    "carData = (carData\n",
    "  .withColumn(\"km_driven\", col(\"km_driven\").cast(IntegerType()))\n",
    "  .withColumn(\"selling_price\", col(\"selling_price\").cast(IntegerType())))"
   ]
  },
  {
   "cell_type": "code",
   "execution_count": 27,
   "metadata": {},
   "outputs": [
    {
     "name": "stdout",
     "output_type": "stream",
     "text": [
      "root\n",
      " |-- year: integer (nullable = true)\n",
      " |-- selling_price: integer (nullable = true)\n",
      " |-- km_driven: integer (nullable = true)\n",
      " |-- mileage: float (nullable = true)\n",
      " |-- engine: integer (nullable = true)\n",
      " |-- max_power: float (nullable = true)\n",
      " |-- name_index: double (nullable = true)\n",
      " |-- State_or_province_index: double (nullable = true)\n",
      " |-- City_index: double (nullable = true)\n",
      " |-- fuel_index: double (nullable = true)\n",
      " |-- seller_type_index: double (nullable = true)\n",
      " |-- transmission_index: double (nullable = true)\n",
      " |-- owner_index: double (nullable = true)\n",
      " |-- seats_index: double (nullable = true)\n",
      " |-- sold_index: double (nullable = true)\n",
      " |-- Region_index: double (nullable = true)\n",
      "\n"
     ]
    }
   ],
   "source": [
    "carData.printSchema()"
   ]
  },
  {
   "cell_type": "code",
   "execution_count": 28,
   "metadata": {},
   "outputs": [
    {
     "name": "stdout",
     "output_type": "stream",
     "text": [
      "+----+-------------+---------+-------+------+---------+----------+-----------------------+----------+----------+-----------------+------------------+-----------+-----------+----------+------------+\n",
      "|year|selling_price|km_driven|mileage|engine|max_power|name_index|State_or_province_index|City_index|fuel_index|seller_type_index|transmission_index|owner_index|seats_index|sold_index|Region_index|\n",
      "+----+-------------+---------+-------+------+---------+----------+-----------------------+----------+----------+-----------------+------------------+-----------+-----------+----------+------------+\n",
      "|2014|       450000|   145500|   23.4|  1248|     74.0|       0.0|                   33.0|       5.0|       0.0|              0.0|               0.0|        0.0|        0.0|       1.0|         2.0|\n",
      "|2014|       370000|   120000|  21.14|  1498|   103.52|     770.0|                    2.0|       0.0|       0.0|              0.0|               0.0|        1.0|        0.0|       1.0|         2.0|\n",
      "|2006|       158000|   140000|   17.7|  1497|     78.0|     238.0|                    3.0|       3.0|       1.0|              0.0|               0.0|        2.0|        0.0|       1.0|         0.0|\n",
      "|2010|       225000|   127000|   23.0|  1396|     90.0|    1536.0|                    3.0|       3.0|       0.0|              0.0|               0.0|        0.0|        0.0|       1.0|         0.0|\n",
      "|2007|       130000|   120000|   16.1|  1298|     88.2|    1056.0|                    2.0|       0.0|       1.0|              0.0|               0.0|        0.0|        0.0|       1.0|         2.0|\n",
      "+----+-------------+---------+-------+------+---------+----------+-----------------------+----------+----------+-----------------+------------------+-----------+-----------+----------+------------+\n",
      "only showing top 5 rows\n",
      "\n"
     ]
    }
   ],
   "source": [
    "carData.show(5)"
   ]
  },
  {
   "cell_type": "code",
   "execution_count": 29,
   "metadata": {},
   "outputs": [
    {
     "data": {
      "text/plain": [
       "['year',\n",
       " 'selling_price',\n",
       " 'km_driven',\n",
       " 'mileage',\n",
       " 'engine',\n",
       " 'max_power',\n",
       " 'name_index',\n",
       " 'State_or_province_index',\n",
       " 'City_index',\n",
       " 'fuel_index',\n",
       " 'seller_type_index',\n",
       " 'transmission_index',\n",
       " 'owner_index',\n",
       " 'seats_index',\n",
       " 'sold_index',\n",
       " 'Region_index']"
      ]
     },
     "execution_count": 29,
     "metadata": {},
     "output_type": "execute_result"
    }
   ],
   "source": [
    "from pyspark.ml.feature import VectorAssembler, StandardScaler\n",
    "carData.columns"
   ]
  },
  {
   "cell_type": "code",
   "execution_count": 30,
   "metadata": {},
   "outputs": [],
   "source": [
    "assembler = VectorAssembler(\n",
    "    inputCols=['year',\n",
    " 'km_driven',\n",
    " 'mileage',\n",
    " 'engine',\n",
    " 'max_power',\n",
    " 'name_index',\n",
    " 'State_or_province_index',\n",
    " 'City_index',\n",
    " 'fuel_index',\n",
    " 'seller_type_index',\n",
    " 'transmission_index',\n",
    " 'owner_index',\n",
    " 'seats_index',\n",
    " 'sold_index',\n",
    " 'Region_index'],\n",
    "    outputCol=\"features\")"
   ]
  },
  {
   "cell_type": "code",
   "execution_count": 31,
   "metadata": {},
   "outputs": [],
   "source": [
    "output = assembler.transform(carData)"
   ]
  },
  {
   "cell_type": "code",
   "execution_count": 32,
   "metadata": {},
   "outputs": [
    {
     "name": "stdout",
     "output_type": "stream",
     "text": [
      "+--------------------+-------------+\n",
      "|            features|selling_price|\n",
      "+--------------------+-------------+\n",
      "|[2014.0,145500.0,...|       450000|\n",
      "|[2014.0,120000.0,...|       370000|\n",
      "|[2006.0,140000.0,...|       158000|\n",
      "|[2010.0,127000.0,...|       225000|\n",
      "|[2007.0,120000.0,...|       130000|\n",
      "|[2017.0,45000.0,2...|       440000|\n",
      "|[2007.0,175000.0,...|        96000|\n",
      "|[2001.0,5000.0,16...|        45000|\n",
      "|[2011.0,90000.0,2...|       350000|\n",
      "|[2013.0,169000.0,...|       200000|\n",
      "|[2014.0,68000.0,1...|       500000|\n",
      "|[2005.0,100000.0,...|        92000|\n",
      "|[2009.0,140000.0,...|       280000|\n",
      "|[2009.0,90000.0,1...|       180000|\n",
      "|[2016.0,40000.0,1...|       400000|\n",
      "|[2016.0,70000.0,2...|       778000|\n",
      "|[2012.0,53000.0,2...|       500000|\n",
      "|[2002.0,80000.0,1...|       150000|\n",
      "|[2016.0,100000.0,...|       680000|\n",
      "|[2011.0,100000.0,...|       174000|\n",
      "+--------------------+-------------+\n",
      "only showing top 20 rows\n",
      "\n"
     ]
    }
   ],
   "source": [
    "out=output.select(\"features\",\"selling_price\")\n",
    "out.show()"
   ]
  },
  {
   "cell_type": "code",
   "execution_count": 33,
   "metadata": {},
   "outputs": [],
   "source": [
    "from pyspark.ml import Pipeline\n",
    "from pyspark.ml.evaluation import RegressionEvaluator\n",
    "from pyspark.ml.regression import RandomForestRegressionModel, RandomForestRegressor"
   ]
  },
  {
   "cell_type": "code",
   "execution_count": 34,
   "metadata": {},
   "outputs": [],
   "source": [
    "scaler = StandardScaler(inputCol=\"features\", outputCol=\"scaledfeatures\")"
   ]
  },
  {
   "cell_type": "code",
   "execution_count": 35,
   "metadata": {},
   "outputs": [],
   "source": [
    "scale = scaler.fit(out).transform(out)\n",
    "scaled_data=scale.select(\"scaledfeatures\",\"selling_price\")"
   ]
  },
  {
   "cell_type": "code",
   "execution_count": 36,
   "metadata": {},
   "outputs": [
    {
     "name": "stdout",
     "output_type": "stream",
     "text": [
      "+--------------------+-------------+\n",
      "|      scaledfeatures|selling_price|\n",
      "+--------------------+-------------+\n",
      "|[521.262631612101...|       450000|\n",
      "|[521.262631612101...|       370000|\n",
      "|[519.192074982062...|       158000|\n",
      "|[520.227353297081...|       225000|\n",
      "|[519.450894560817...|       130000|\n",
      "+--------------------+-------------+\n",
      "only showing top 5 rows\n",
      "\n"
     ]
    }
   ],
   "source": [
    "scaled_data.show(5)"
   ]
  },
  {
   "cell_type": "code",
   "execution_count": 61,
   "metadata": {},
   "outputs": [],
   "source": [
    "(train, test) = scaled_data.randomSplit([0.8, 0.2])"
   ]
  },
  {
   "cell_type": "code",
   "execution_count": 62,
   "metadata": {},
   "outputs": [],
   "source": [
    "rf = RandomForestRegressor(numTrees=150).setLabelCol(\"selling_price\").setFeaturesCol(\"scaledfeatures\")"
   ]
  },
  {
   "cell_type": "code",
   "execution_count": 63,
   "metadata": {},
   "outputs": [],
   "source": [
    "random_forest=rf.fit(train)"
   ]
  },
  {
   "cell_type": "code",
   "execution_count": 64,
   "metadata": {},
   "outputs": [
    {
     "name": "stdout",
     "output_type": "stream",
     "text": [
      "+--------------------+-------------+------------------+\n",
      "|      scaledfeatures|selling_price|        prediction|\n",
      "+--------------------+-------------+------------------+\n",
      "|(15,[0,1,2,3,4,5,...|       355000| 336096.9543359037|\n",
      "|(15,[0,1,2,3,4,5,...|       220000| 288111.8414381165|\n",
      "|(15,[0,1,2,3,4,5,...|       215000| 284750.2934464828|\n",
      "|(15,[0,1,2,3,4,5,...|       270000|370746.54979874415|\n",
      "|(15,[0,1,2,3,4,5,...|       204999|284066.73966344824|\n",
      "|(15,[0,1,2,3,4,5,...|       370000|376673.82850198325|\n",
      "|(15,[0,1,2,3,4,5,...|       425000|424049.58456539834|\n",
      "|(15,[0,1,2,3,4,5,...|       200000| 357862.9519864981|\n",
      "|(15,[0,1,2,3,4,5,...|       295000| 423737.1572032895|\n",
      "|(15,[0,1,2,3,4,5,...|       229999| 302947.0804613739|\n",
      "|(15,[0,1,2,3,4,5,...|       290000| 330742.6363601765|\n",
      "|(15,[0,1,2,3,4,5,...|       229999|308238.18206543056|\n",
      "|(15,[0,1,2,3,4,5,...|       200000| 367453.4590237305|\n",
      "|(15,[0,1,2,3,4,5,...|       615000| 443070.7224159461|\n",
      "|(15,[0,1,2,3,4,5,...|       295000| 363692.6016400846|\n",
      "|(15,[0,1,2,3,4,5,...|       451000| 316932.6523946545|\n",
      "|(15,[0,1,2,3,4,5,...|       450000| 545954.0469061957|\n",
      "|(15,[0,1,2,3,4,5,...|       580000| 618919.3493746374|\n",
      "|(15,[0,1,2,3,4,5,...|       425000|496004.91233623365|\n",
      "|(15,[0,1,2,3,4,5,...|       650000| 534434.2749868844|\n",
      "+--------------------+-------------+------------------+\n",
      "only showing top 20 rows\n",
      "\n"
     ]
    }
   ],
   "source": [
    "test_results = random_forest.transform(test)\n",
    "test_results.show()"
   ]
  },
  {
   "cell_type": "markdown",
   "metadata": {},
   "source": [
    "RMSE"
   ]
  },
  {
   "cell_type": "code",
   "execution_count": 65,
   "metadata": {},
   "outputs": [],
   "source": [
    "evaluator1 = RegressionEvaluator().setLabelCol(\"selling_price\").setPredictionCol(\"prediction\").setMetricName(\"rmse\")"
   ]
  },
  {
   "cell_type": "code",
   "execution_count": 66,
   "metadata": {},
   "outputs": [
    {
     "data": {
      "text/plain": [
       "181559.60487681124"
      ]
     },
     "execution_count": 66,
     "metadata": {},
     "output_type": "execute_result"
    }
   ],
   "source": [
    "rmse = evaluator1.evaluate(test_results)\n",
    "rmse"
   ]
  },
  {
   "cell_type": "markdown",
   "metadata": {},
   "source": [
    "R2-score"
   ]
  },
  {
   "cell_type": "code",
   "execution_count": 67,
   "metadata": {},
   "outputs": [],
   "source": [
    "evaluator2 = RegressionEvaluator().setLabelCol(\"selling_price\").setPredictionCol(\"prediction\").setMetricName(\"r2\")"
   ]
  },
  {
   "cell_type": "code",
   "execution_count": 68,
   "metadata": {},
   "outputs": [
    {
     "data": {
      "text/plain": [
       "0.9469430070765242"
      ]
     },
     "execution_count": 68,
     "metadata": {},
     "output_type": "execute_result"
    }
   ],
   "source": [
    "r2 = evaluator2.evaluate(test_results)\n",
    "r2"
   ]
  },
  {
   "cell_type": "code",
   "execution_count": 69,
   "metadata": {},
   "outputs": [],
   "source": [
    "evaluator3 = RegressionEvaluator().setLabelCol(\"selling_price\").setPredictionCol(\"prediction\").setMetricName(\"mse\")"
   ]
  },
  {
   "cell_type": "code",
   "execution_count": 70,
   "metadata": {},
   "outputs": [
    {
     "data": {
      "text/plain": [
       "32963890123.023823"
      ]
     },
     "execution_count": 70,
     "metadata": {},
     "output_type": "execute_result"
    }
   ],
   "source": [
    "mse = evaluator3.evaluate(test_results)\n",
    "mse"
   ]
  },
  {
   "cell_type": "code",
   "execution_count": null,
   "metadata": {},
   "outputs": [],
   "source": []
  }
 ],
 "metadata": {
  "kernelspec": {
   "display_name": "Python 3",
   "language": "python",
   "name": "python3"
  },
  "language_info": {
   "codemirror_mode": {
    "name": "ipython",
    "version": 3
   },
   "file_extension": ".py",
   "mimetype": "text/x-python",
   "name": "python",
   "nbconvert_exporter": "python",
   "pygments_lexer": "ipython3",
   "version": "3.5.2"
  }
 },
 "nbformat": 4,
 "nbformat_minor": 2
}
